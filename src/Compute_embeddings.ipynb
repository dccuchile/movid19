{
 "cells": [
  {
   "cell_type": "code",
   "execution_count": 2,
   "metadata": {},
   "outputs": [],
   "source": [
    "from transformers import BertModel, BertForMaskedLM, BertTokenizer\n",
    "from utils import read_movid_file, load_we, generate_emb_dict, save_emb_and_meta, generate_bert_emb_dict"
   ]
  },
  {
   "cell_type": "markdown",
   "metadata": {},
   "source": [
    "# Lee datos"
   ]
  },
  {
   "cell_type": "code",
   "execution_count": 3,
   "metadata": {
    "collapsed": true
   },
   "outputs": [],
   "source": [
    "infile_name = '../data/20200629.csv'"
   ]
  },
  {
   "cell_type": "code",
   "execution_count": 8,
   "metadata": {
    "scrolled": true
   },
   "outputs": [
    {
     "name": "stdout",
     "output_type": "stream",
     "text": [
      "15047 textos cargados del campo s3_cons_otra_TEXT\n"
     ]
    }
   ],
   "source": [
    "text_field='s3_cons_otra_TEXT'\n",
    "text_dict = read_movid_file(infile_name, text_field, after=20200101)\n",
    "print(f'{len(text_dict)} textos cargados del campo {text_field}')"
   ]
  },
  {
   "cell_type": "markdown",
   "metadata": {},
   "source": [
    "# Carga modelo de embeddings y computa y guarda embeddings para textos"
   ]
  },
  {
   "cell_type": "code",
   "execution_count": 5,
   "metadata": {},
   "outputs": [
    {
     "name": "stdout",
     "output_type": "stream",
     "text": [
      "CPU times: user 7min 11s, sys: 13min 22s, total: 20min 33s\n",
      "Wall time: 49min 37s\n"
     ]
    }
   ],
   "source": [
    "%time wordvectors = load_we('../we/fasttext-suc', 'bin', limit=40000)"
   ]
  },
  {
   "cell_type": "code",
   "execution_count": 9,
   "metadata": {},
   "outputs": [
    {
     "name": "stdout",
     "output_type": "stream",
     "text": [
      "CPU times: user 2.99 s, sys: 2.71 s, total: 5.69 s\n",
      "Wall time: 11 s\n"
     ]
    }
   ],
   "source": [
    "%time emb_dict = generate_emb_dict(text_dict, wordvectors, verbose=False)"
   ]
  },
  {
   "cell_type": "code",
   "execution_count": 10,
   "metadata": {
    "collapsed": true
   },
   "outputs": [],
   "source": [
    "save_emb_and_meta(text_dict, emb_dict, '../out/20200702_ftsuc.s3_cons.tsv', '../out/20200702_ftsuc.s3_cons.meta.tsv' )"
   ]
  },
  {
   "cell_type": "markdown",
   "metadata": {},
   "source": [
    "# Carga modelo BERT en español y computa y guarda embeddings"
   ]
  },
  {
   "cell_type": "code",
   "execution_count": 11,
   "metadata": {
    "collapsed": true
   },
   "outputs": [],
   "source": [
    "tokenizer = BertTokenizer.from_pretrained(\"dccuchile/bert-base-spanish-wwm-uncased\")\n",
    "model = BertModel.from_pretrained(\"dccuchile/bert-base-spanish-wwm-uncased\")\n",
    "model = model.eval()"
   ]
  },
  {
   "cell_type": "code",
   "execution_count": 12,
   "metadata": {},
   "outputs": [
    {
     "name": "stdout",
     "output_type": "stream",
     "text": [
      "batch:376, examples:15047/15047\n",
      "done\n",
      "CPU times: user 39min 57s, sys: 4min 22s, total: 44min 19s\n",
      "Wall time: 27min 11s\n"
     ]
    }
   ],
   "source": [
    "%time bert_emb_dict = generate_bert_emb_dict(text_dict, tokenizer, model, batch_size=40, verbose=True)"
   ]
  },
  {
   "cell_type": "code",
   "execution_count": 13,
   "metadata": {},
   "outputs": [
    {
     "name": "stdout",
     "output_type": "stream",
     "text": [
      "CPU times: user 54.4 s, sys: 705 ms, total: 55.1 s\n",
      "Wall time: 56.4 s\n"
     ]
    }
   ],
   "source": [
    "%time save_emb_and_meta(text_dict, bert_emb_dict, '../out/20200702_bert.s3_cons.tsv', '../out/20200702_bert.s3_cons.meta.tsv')"
   ]
  },
  {
   "cell_type": "code",
   "execution_count": null,
   "metadata": {
    "collapsed": true
   },
   "outputs": [],
   "source": []
  }
 ],
 "metadata": {
  "kernelspec": {
   "display_name": "Python 3",
   "language": "python",
   "name": "python3"
  },
  "language_info": {
   "codemirror_mode": {
    "name": "ipython",
    "version": 3
   },
   "file_extension": ".py",
   "mimetype": "text/x-python",
   "name": "python",
   "nbconvert_exporter": "python",
   "pygments_lexer": "ipython3",
   "version": "3.6.8"
  }
 },
 "nbformat": 4,
 "nbformat_minor": 2
}
