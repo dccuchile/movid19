{
 "cells": [
  {
   "cell_type": "code",
   "execution_count": null,
   "metadata": {},
   "outputs": [],
   "source": [
    "from transformers import BertModel, BertForMaskedLM, BertTokenizer"
   ]
  },
  {
   "cell_type": "code",
   "execution_count": 1,
   "metadata": {},
   "outputs": [],
   "source": [
    "from utils import read_movid_file, load_we, generate_emb_dict, save_emb_and_meta, generate_bert_emb_dict"
   ]
  },
  {
   "cell_type": "markdown",
   "metadata": {},
   "source": [
    "# Lee datos"
   ]
  },
  {
   "cell_type": "code",
   "execution_count": 2,
   "metadata": {},
   "outputs": [],
   "source": [
    "infile_name = '../data/20200629.csv'"
   ]
  },
  {
   "cell_type": "code",
   "execution_count": 3,
   "metadata": {
    "scrolled": true
   },
   "outputs": [
    {
     "name": "stdout",
     "output_type": "stream",
     "text": [
      "14585 textos cargados del campo p1_pra_otro_TEXT\n"
     ]
    }
   ],
   "source": [
    "text_field='p1_pra_otro_TEXT'\n",
    "text_dict = read_movid_file(infile_name, text_field, after=20200101)\n",
    "print(f'{len(text_dict)} textos cargados del campo {text_field}')"
   ]
  },
  {
   "cell_type": "markdown",
   "metadata": {},
   "source": [
    "# Descarga modelo de embeddings si es que no están localmente"
   ]
  },
  {
   "cell_type": "code",
   "execution_count": 4,
   "metadata": {},
   "outputs": [],
   "source": [
    "#!wget https://zenodo.org/record/3234051/files/embeddings-l-model.bin?download=1 -O ../we/fasttex-suc.bin"
   ]
  },
  {
   "cell_type": "markdown",
   "metadata": {},
   "source": [
    "# Carga modelo de embeddings y computa y guarda embeddings para textos"
   ]
  },
  {
   "cell_type": "code",
   "execution_count": 5,
   "metadata": {},
   "outputs": [
    {
     "name": "stdout",
     "output_type": "stream",
     "text": [
      "CPU times: user 2min 46s, sys: 5.05 s, total: 2min 51s\n",
      "Wall time: 2min 52s\n"
     ]
    }
   ],
   "source": [
    "%time wordvectors = load_we('../we/fasttext-suc', 'bin', limit=1000000)"
   ]
  },
  {
   "cell_type": "code",
   "execution_count": 6,
   "metadata": {},
   "outputs": [
    {
     "name": "stdout",
     "output_type": "stream",
     "text": [
      "not possible to create vector for: []\n",
      "not possible to create vector for: []\n",
      "not possible to create vector for: []\n",
      "CPU times: user 656 ms, sys: 60.2 ms, total: 716 ms\n",
      "Wall time: 662 ms\n"
     ]
    }
   ],
   "source": [
    "%time emb_dict = generate_emb_dict(text_dict, wordvectors, verbose=True)"
   ]
  },
  {
   "cell_type": "code",
   "execution_count": 19,
   "metadata": {},
   "outputs": [],
   "source": [
    "save_emb_and_meta(text_dict, emb_dict, '../out/20200712_ftsuc.p1_pra.tsv', \n",
    "                  '../out/20200712_ftsuc.p1_pra.meta.tsv', \n",
    "                  save_ids=True, outfilename_ids='../out/20200712_ftsuc.p1_pra.ids.csv')"
   ]
  },
  {
   "cell_type": "markdown",
   "metadata": {},
   "source": [
    "# Carga modelo BERT en español y computa y guarda embeddings"
   ]
  },
  {
   "cell_type": "code",
   "execution_count": null,
   "metadata": {},
   "outputs": [],
   "source": [
    "tokenizer = BertTokenizer.from_pretrained(\"dccuchile/bert-base-spanish-wwm-uncased\")\n",
    "model = BertModel.from_pretrained(\"dccuchile/bert-base-spanish-wwm-uncased\")\n",
    "model = model.eval()"
   ]
  },
  {
   "cell_type": "code",
   "execution_count": null,
   "metadata": {},
   "outputs": [],
   "source": [
    "%time bert_emb_dict = generate_bert_emb_dict(text_dict, tokenizer, model, batch_size=40, verbose=True)"
   ]
  },
  {
   "cell_type": "code",
   "execution_count": null,
   "metadata": {},
   "outputs": [],
   "source": [
    "%time save_emb_and_meta(text_dict, bert_emb_dict, '../out/20200712_bert.p1_pra.tsv', '../out/20200712_bert.p1_pra.meta.tsv')"
   ]
  },
  {
   "cell_type": "code",
   "execution_count": null,
   "metadata": {},
   "outputs": [],
   "source": []
  }
 ],
 "metadata": {
  "kernelspec": {
   "display_name": "Python 3",
   "language": "python",
   "name": "python3"
  },
  "language_info": {
   "codemirror_mode": {
    "name": "ipython",
    "version": 3
   },
   "file_extension": ".py",
   "mimetype": "text/x-python",
   "name": "python",
   "nbconvert_exporter": "python",
   "pygments_lexer": "ipython3",
   "version": "3.8.2"
  }
 },
 "nbformat": 4,
 "nbformat_minor": 2
}
